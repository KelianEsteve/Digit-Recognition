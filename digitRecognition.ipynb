{
 "cells": [
  {
   "cell_type": "code",
   "execution_count": 1,
   "id": "f508ef8f-cc6a-464f-a9fe-b2f4987c748a",
   "metadata": {},
   "outputs": [],
   "source": [
    "import torch\n",
    "from torch import nn\n",
    "from torch.utils.data import DataLoader\n",
    "from torchvision import datasets\n",
    "from torchvision.datasets import MNIST\n",
    "from torchvision.transforms import ToTensor"
   ]
  },
  {
   "cell_type": "code",
   "execution_count": 2,
   "id": "8edef13a-681b-47f9-ba43-1f655ab43932",
   "metadata": {},
   "outputs": [
    {
     "name": "stdout",
     "output_type": "stream",
     "text": [
      "60000\n"
     ]
    }
   ],
   "source": [
    "training_data = MNIST(\n",
    "    root='data/',\n",
    "    train=True,\n",
    "    download=True,\n",
    "    transform=ToTensor(),\n",
    ")\n",
    "print(len(training_data))"
   ]
  },
  {
   "cell_type": "code",
   "execution_count": 3,
   "id": "8c363aba-bcf9-4a79-9f25-9f99c3ff4a8d",
   "metadata": {},
   "outputs": [
    {
     "name": "stdout",
     "output_type": "stream",
     "text": [
      "10000\n"
     ]
    }
   ],
   "source": [
    "test_data = MNIST(\n",
    "    root='data/',\n",
    "    train=False,\n",
    "    download=True,\n",
    "    transform=ToTensor(),\n",
    ")\n",
    "print(len(test_data))"
   ]
  },
  {
   "cell_type": "code",
   "execution_count": 4,
   "id": "9a01285b-fd1f-4ac1-a772-8b6f44da4e33",
   "metadata": {},
   "outputs": [
    {
     "name": "stdout",
     "output_type": "stream",
     "text": [
      "Shape of X [N, C, H, W]: torch.Size([80, 1, 28, 28])\n",
      "Shape of y: torch.Size([80]) torch.int64\n"
     ]
    }
   ],
   "source": [
    "batch_size = 80\n",
    "\n",
    "train_dataloader = DataLoader(training_data, batch_size=batch_size)\n",
    "test_dataloader = DataLoader(test_data, batch_size=batch_size)\n",
    "\n",
    "for X, y in test_dataloader:\n",
    "    print(f\"Shape of X [N, C, H, W]: {X.shape}\")\n",
    "    print(f\"Shape of y: {y.shape} {y.dtype}\")\n",
    "    break"
   ]
  },
  {
   "cell_type": "code",
   "execution_count": 5,
   "id": "ad33df84-9d31-458a-97e0-90415992409f",
   "metadata": {},
   "outputs": [
    {
     "name": "stdout",
     "output_type": "stream",
     "text": [
      "Using cpu device\n"
     ]
    }
   ],
   "source": [
    "device = (\n",
    "    \"cuda\"\n",
    "    if torch.cuda.is_available()\n",
    "    else \"mps\"\n",
    "    if torch.backends.mps.is_available()\n",
    "    else \"cpu\"\n",
    ")\n",
    "print(f\"Using {device} device\")"
   ]
  },
  {
   "cell_type": "code",
   "execution_count": 6,
   "id": "1eeff1c4-1c15-4783-8824-5c660b50e885",
   "metadata": {},
   "outputs": [
    {
     "name": "stdout",
     "output_type": "stream",
     "text": [
      "NeuralNetwork(\n",
      "  (flatten): Flatten(start_dim=1, end_dim=-1)\n",
      "  (linear_relu_stack): Sequential(\n",
      "    (0): Linear(in_features=784, out_features=784, bias=True)\n",
      "    (1): ReLU()\n",
      "    (2): Linear(in_features=784, out_features=512, bias=True)\n",
      "    (3): ReLU()\n",
      "    (4): Linear(in_features=512, out_features=10, bias=True)\n",
      "  )\n",
      ")\n"
     ]
    }
   ],
   "source": [
    "class NeuralNetwork(nn.Module):\n",
    "    def __init__(self):\n",
    "        super().__init__()\n",
    "        self.flatten = nn.Flatten() #conversion en vecteurs unidimensionnels\n",
    "        self.linear_relu_stack = nn.Sequential(\n",
    "            nn.Linear(28*28, 784),\n",
    "            nn.ReLU(),\n",
    "            nn.Linear(784, 512),\n",
    "            nn.ReLU(),\n",
    "            nn.Linear(512,10)\n",
    "    )\n",
    "\n",
    "    def forward(self, x):\n",
    "        x = self.flatten(x)\n",
    "        logits = self.linear_relu_stack(x)\n",
    "        return logits\n",
    "\n",
    "model = NeuralNetwork().to(device)\n",
    "print(model)"
   ]
  },
  {
   "cell_type": "code",
   "execution_count": 7,
   "id": "ebe86008-6b00-48cc-819d-a5d38487fdff",
   "metadata": {},
   "outputs": [],
   "source": [
    "loss_fn = nn.CrossEntropyLoss()\n",
    "optimizer = torch.optim.Adam(model.parameters(), lr=1e-3)"
   ]
  },
  {
   "cell_type": "code",
   "execution_count": 8,
   "id": "e789e2c6-b951-4d60-ba04-2e3fbe0c2390",
   "metadata": {},
   "outputs": [],
   "source": [
    "def train(dataloader, model, loss_fn, optimizer):\n",
    "    size = len(dataloader.dataset)\n",
    "    model.train()\n",
    "    for batch, (X, y) in enumerate(dataloader):\n",
    "        X, y = X.to(device), y.to(device)\n",
    "\n",
    "        # Compute prediction error\n",
    "        pred = model(X)\n",
    "        loss = loss_fn(pred, y)\n",
    "\n",
    "        # Backpropagation\n",
    "        loss.backward()\n",
    "        optimizer.step()\n",
    "        optimizer.zero_grad()\n",
    "\n",
    "        if batch % 100 == 0:\n",
    "            loss, current = loss.item(), (batch + 1) * len(X)\n",
    "            print(f\"loss: {loss:>7f}  [{current:>5d}/{size:>5d}]\")"
   ]
  },
  {
   "cell_type": "code",
   "execution_count": 9,
   "id": "3d2bef5c-9334-4547-b473-72e7b43d93a7",
   "metadata": {
    "jupyter": {
     "source_hidden": true
    }
   },
   "outputs": [],
   "source": [
    "def test(dataloader, model, loss_fn):\n",
    "    size = len(dataloader.dataset)\n",
    "    num_batches = len(dataloader)\n",
    "    model.eval()\n",
    "    test_loss, correct = 0, 0\n",
    "    with torch.no_grad():\n",
    "        for X, y in dataloader:\n",
    "            X, y = X.to(device), y.to(device)\n",
    "            pred = model(X)\n",
    "            test_loss += loss_fn(pred, y).item()\n",
    "            correct += (pred.argmax(1) == y).type(torch.float).sum().item()\n",
    "    test_loss /= num_batches\n",
    "    correct /= size\n",
    "    print(f\"Test Error: \\n Accuracy: {(100*correct):>0.1f}%, Avg loss: {test_loss:>8f} \\n\")"
   ]
  },
  {
   "cell_type": "code",
   "execution_count": 10,
   "id": "9b4f4ce4-713f-44a4-97f4-3a3def3bcf41",
   "metadata": {},
   "outputs": [
    {
     "name": "stdout",
     "output_type": "stream",
     "text": [
      "Epoch 1\n",
      "-------------------------------\n",
      "loss: 2.302977  [   80/60000]\n",
      "loss: 0.260328  [ 8080/60000]\n",
      "loss: 0.403437  [16080/60000]\n",
      "loss: 0.190716  [24080/60000]\n",
      "loss: 0.319627  [32080/60000]\n",
      "loss: 0.114368  [40080/60000]\n",
      "loss: 0.137915  [48080/60000]\n",
      "loss: 0.128319  [56080/60000]\n",
      "Test Error: \n",
      " Accuracy: 95.5%, Avg loss: 0.137012 \n",
      "\n",
      "Epoch 2\n",
      "-------------------------------\n",
      "loss: 0.056002  [   80/60000]\n",
      "loss: 0.112917  [ 8080/60000]\n",
      "loss: 0.111863  [16080/60000]\n",
      "loss: 0.068857  [24080/60000]\n",
      "loss: 0.099473  [32080/60000]\n",
      "loss: 0.058219  [40080/60000]\n",
      "loss: 0.040977  [48080/60000]\n",
      "loss: 0.047397  [56080/60000]\n",
      "Test Error: \n",
      " Accuracy: 95.5%, Avg loss: 0.155637 \n",
      "\n",
      "Epoch 3\n",
      "-------------------------------\n",
      "loss: 0.032231  [   80/60000]\n",
      "loss: 0.035273  [ 8080/60000]\n",
      "loss: 0.058215  [16080/60000]\n",
      "loss: 0.029815  [24080/60000]\n",
      "loss: 0.087429  [32080/60000]\n",
      "loss: 0.035250  [40080/60000]\n",
      "loss: 0.012793  [48080/60000]\n",
      "loss: 0.025084  [56080/60000]\n",
      "Test Error: \n",
      " Accuracy: 97.7%, Avg loss: 0.077463 \n",
      "\n",
      "Epoch 4\n",
      "-------------------------------\n",
      "loss: 0.039855  [   80/60000]\n",
      "loss: 0.029449  [ 8080/60000]\n",
      "loss: 0.041787  [16080/60000]\n",
      "loss: 0.012868  [24080/60000]\n",
      "loss: 0.034034  [32080/60000]\n",
      "loss: 0.077776  [40080/60000]\n",
      "loss: 0.006015  [48080/60000]\n",
      "loss: 0.020262  [56080/60000]\n",
      "Test Error: \n",
      " Accuracy: 96.9%, Avg loss: 0.121919 \n",
      "\n",
      "Epoch 5\n",
      "-------------------------------\n",
      "loss: 0.021007  [   80/60000]\n",
      "loss: 0.027449  [ 8080/60000]\n",
      "loss: 0.015580  [16080/60000]\n",
      "loss: 0.065767  [24080/60000]\n",
      "loss: 0.043232  [32080/60000]\n",
      "loss: 0.025393  [40080/60000]\n",
      "loss: 0.012711  [48080/60000]\n",
      "loss: 0.002059  [56080/60000]\n",
      "Test Error: \n",
      " Accuracy: 96.4%, Avg loss: 0.138066 \n",
      "\n",
      "Epoch 6\n",
      "-------------------------------\n",
      "loss: 0.010166  [   80/60000]\n",
      "loss: 0.007709  [ 8080/60000]\n",
      "loss: 0.032410  [16080/60000]\n",
      "loss: 0.006065  [24080/60000]\n",
      "loss: 0.012540  [32080/60000]\n",
      "loss: 0.029575  [40080/60000]\n",
      "loss: 0.002430  [48080/60000]\n",
      "loss: 0.002301  [56080/60000]\n",
      "Test Error: \n",
      " Accuracy: 97.5%, Avg loss: 0.091890 \n",
      "\n",
      "Epoch 7\n",
      "-------------------------------\n",
      "loss: 0.025437  [   80/60000]\n",
      "loss: 0.002220  [ 8080/60000]\n",
      "loss: 0.014873  [16080/60000]\n",
      "loss: 0.050595  [24080/60000]\n",
      "loss: 0.023034  [32080/60000]\n",
      "loss: 0.001170  [40080/60000]\n",
      "loss: 0.002279  [48080/60000]\n",
      "loss: 0.006648  [56080/60000]\n",
      "Test Error: \n",
      " Accuracy: 97.7%, Avg loss: 0.091595 \n",
      "\n",
      "Epoch 8\n",
      "-------------------------------\n",
      "loss: 0.000603  [   80/60000]\n",
      "loss: 0.010910  [ 8080/60000]\n",
      "loss: 0.000775  [16080/60000]\n",
      "loss: 0.001087  [24080/60000]\n",
      "loss: 0.011373  [32080/60000]\n",
      "loss: 0.001885  [40080/60000]\n",
      "loss: 0.001612  [48080/60000]\n",
      "loss: 0.002596  [56080/60000]\n",
      "Test Error: \n",
      " Accuracy: 97.9%, Avg loss: 0.094008 \n",
      "\n",
      "Epoch 9\n",
      "-------------------------------\n",
      "loss: 0.040090  [   80/60000]\n",
      "loss: 0.080577  [ 8080/60000]\n",
      "loss: 0.004928  [16080/60000]\n",
      "loss: 0.061733  [24080/60000]\n",
      "loss: 0.014547  [32080/60000]\n",
      "loss: 0.008418  [40080/60000]\n",
      "loss: 0.017736  [48080/60000]\n",
      "loss: 0.002485  [56080/60000]\n",
      "Test Error: \n",
      " Accuracy: 97.9%, Avg loss: 0.093524 \n",
      "\n",
      "Epoch 10\n",
      "-------------------------------\n",
      "loss: 0.002891  [   80/60000]\n",
      "loss: 0.000083  [ 8080/60000]\n",
      "loss: 0.003957  [16080/60000]\n",
      "loss: 0.001975  [24080/60000]\n",
      "loss: 0.001539  [32080/60000]\n",
      "loss: 0.009186  [40080/60000]\n",
      "loss: 0.000145  [48080/60000]\n",
      "loss: 0.000695  [56080/60000]\n",
      "Test Error: \n",
      " Accuracy: 98.1%, Avg loss: 0.103598 \n",
      "\n",
      "Epoch 11\n",
      "-------------------------------\n",
      "loss: 0.002166  [   80/60000]\n",
      "loss: 0.006716  [ 8080/60000]\n",
      "loss: 0.014182  [16080/60000]\n",
      "loss: 0.087673  [24080/60000]\n",
      "loss: 0.000529  [32080/60000]\n",
      "loss: 0.021934  [40080/60000]\n",
      "loss: 0.059861  [48080/60000]\n",
      "loss: 0.002241  [56080/60000]\n",
      "Test Error: \n",
      " Accuracy: 98.0%, Avg loss: 0.099363 \n",
      "\n",
      "Epoch 12\n",
      "-------------------------------\n",
      "loss: 0.008290  [   80/60000]\n",
      "loss: 0.000148  [ 8080/60000]\n",
      "loss: 0.003492  [16080/60000]\n",
      "loss: 0.001249  [24080/60000]\n",
      "loss: 0.036972  [32080/60000]\n",
      "loss: 0.018262  [40080/60000]\n",
      "loss: 0.028901  [48080/60000]\n",
      "loss: 0.013779  [56080/60000]\n",
      "Test Error: \n",
      " Accuracy: 98.2%, Avg loss: 0.091552 \n",
      "\n",
      "Epoch 13\n",
      "-------------------------------\n",
      "loss: 0.000177  [   80/60000]\n",
      "loss: 0.001366  [ 8080/60000]\n",
      "loss: 0.008565  [16080/60000]\n",
      "loss: 0.029934  [24080/60000]\n",
      "loss: 0.000893  [32080/60000]\n",
      "loss: 0.003547  [40080/60000]\n",
      "loss: 0.000081  [48080/60000]\n",
      "loss: 0.009408  [56080/60000]\n",
      "Test Error: \n",
      " Accuracy: 98.1%, Avg loss: 0.107055 \n",
      "\n",
      "Epoch 14\n",
      "-------------------------------\n",
      "loss: 0.000190  [   80/60000]\n",
      "loss: 0.006396  [ 8080/60000]\n",
      "loss: 0.005470  [16080/60000]\n",
      "loss: 0.000700  [24080/60000]\n",
      "loss: 0.133904  [32080/60000]\n",
      "loss: 0.003182  [40080/60000]\n",
      "loss: 0.000071  [48080/60000]\n",
      "loss: 0.003027  [56080/60000]\n",
      "Test Error: \n",
      " Accuracy: 98.2%, Avg loss: 0.103677 \n",
      "\n",
      "Epoch 15\n",
      "-------------------------------\n",
      "loss: 0.002876  [   80/60000]\n",
      "loss: 0.007252  [ 8080/60000]\n",
      "loss: 0.026114  [16080/60000]\n",
      "loss: 0.002272  [24080/60000]\n",
      "loss: 0.000417  [32080/60000]\n",
      "loss: 0.005164  [40080/60000]\n",
      "loss: 0.000088  [48080/60000]\n",
      "loss: 0.000077  [56080/60000]\n",
      "Test Error: \n",
      " Accuracy: 97.8%, Avg loss: 0.126050 \n",
      "\n",
      "Done!\n"
     ]
    }
   ],
   "source": [
    "epochs = 15\n",
    "for t in range(epochs):\n",
    "    print(f\"Epoch {t+1}\\n-------------------------------\")\n",
    "    train(train_dataloader, model, loss_fn, optimizer)\n",
    "    test(test_dataloader, model, loss_fn)\n",
    "print(\"Done!\")"
   ]
  }
 ],
 "metadata": {
  "kernelspec": {
   "display_name": "Python 3 (ipykernel)",
   "language": "python",
   "name": "python3"
  },
  "language_info": {
   "codemirror_mode": {
    "name": "ipython",
    "version": 3
   },
   "file_extension": ".py",
   "mimetype": "text/x-python",
   "name": "python",
   "nbconvert_exporter": "python",
   "pygments_lexer": "ipython3",
   "version": "3.9.18"
  }
 },
 "nbformat": 4,
 "nbformat_minor": 5
}
